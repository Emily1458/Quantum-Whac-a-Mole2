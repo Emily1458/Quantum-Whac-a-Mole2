{
 "cells": [
  {
   "cell_type": "code",
   "execution_count": 1,
   "id": "f6eb974a-2cff-41ec-94c1-ddb28deb7ea1",
   "metadata": {},
   "outputs": [],
   "source": [
    "# -*- coding: utf-8 -*-\n",
    "from tkinter import *\n",
    "from time import *\n",
    "import threading\n",
    "import random"
   ]
  },
  {
   "cell_type": "code",
   "execution_count": 2,
   "id": "8fc779d7-00f6-44cc-bb34-5963863ac8d7",
   "metadata": {},
   "outputs": [],
   "source": [
    "from qiskit import *"
   ]
  },
  {
   "cell_type": "code",
   "execution_count": 3,
   "id": "0768d245-d4ed-4b15-8f0f-c595649f0b7d",
   "metadata": {},
   "outputs": [],
   "source": [
    "from qiskit import QuantumCircuit\n",
    "from qiskit_aer import AerSimulator"
   ]
  },
  {
   "cell_type": "code",
   "execution_count": 4,
   "id": "964a34c4-278d-45c5-b52d-65c42ef5afc3",
   "metadata": {},
   "outputs": [],
   "source": [
    "qc = QuantumCircuit(30, 30)"
   ]
  },
  {
   "cell_type": "code",
   "execution_count": 5,
   "id": "83e9de2e-bcc5-415d-8342-ec886cdac021",
   "metadata": {},
   "outputs": [],
   "source": [
    "#number of successful whacks\n",
    "whacks = 0\n",
    "#number of the hole whacked, no longer needed\n",
    "hole = 0\n",
    "\n",
    "gate = -1\n",
    "isControl = True\n",
    "\n",
    "#screen elements\n",
    "screen = Tk()\n",
    "screen.config(bg=\"#62C370\", width=500, height=520)\n",
    "screen.resizable(0, 0)\n",
    "screen.attributes('-topmost', True)\n",
    "tip = Label(bg='steel blue', fg='green', text=\"Play with mouse for best experience\")\n",
    "tip.place(x=0, y=497)\n",
    "lab = Label(text=\"WHAC-A-MOLE!\", font=(\"Algerian\", 30), bg='#3DA5D9', fg='#fff')\n",
    "lab.place(x=110, y=0)\n",
    "scorelabel = Label(text=whacks, width=7, font=('Bahnschrift', 30), bg='#FEC601')\n",
    "scorelabel.place(x=170, y=52)\n",
    "remark = Label(text=\"\", width=17, bg='#EA7317', fg='#fff', font=\"Centaur 20\")\n",
    "remark.place(x=130, y=107)"
   ]
  },
  {
   "cell_type": "code",
   "execution_count": 6,
   "id": "00997f48-ab08-401e-b916-9fc25d5a8cb7",
   "metadata": {},
   "outputs": [],
   "source": [
    "def applyH():\n",
    "    global gate\n",
    "    gate = 0\n",
    "\n",
    "def applyX():\n",
    "    global gate\n",
    "    gate = 1\n",
    "\n",
    "def applyCX():\n",
    "    global gate\n",
    "    gate = 2\n",
    "\n",
    "def applyZ():\n",
    "    global gate\n",
    "    gate = 3\n",
    "\n",
    "hGate = Button(\n",
    "    width=6,\n",
    "    height=3,\n",
    "    bg='ghost white',\n",
    "    text='h-gate',\n",
    "    state='normal',\n",
    "    command=applyH)\n",
    "hGate.place(x = 421, y =160)\n",
    "\n",
    "xGate = Button(\n",
    "    width=6,\n",
    "    height=3,\n",
    "    bg='ghost white',\n",
    "    text='x-gate',\n",
    "    state='normal',\n",
    "    command=applyX)\n",
    "xGate.place(x = 421, y =225)\n",
    "\n",
    "cnotGate = Button(\n",
    "    width=6,\n",
    "    height=3,\n",
    "    bg='ghost white',\n",
    "    text='CNOT',\n",
    "    state='normal',\n",
    "    command=applyCX)\n",
    "cnotGate.place(x = 421, y =290)\n",
    "\n",
    "zGate = Button(\n",
    "    width=6,\n",
    "    height=3,\n",
    "    bg='ghost white',\n",
    "    text='z-gate',\n",
    "    state='normal',\n",
    "    command=applyZ)\n",
    "zGate.place(x = 421, y =355)"
   ]
  },
  {
   "cell_type": "code",
   "execution_count": 7,
   "id": "63a2a732-b2ed-44d8-bbde-24d42289b70b",
   "metadata": {},
   "outputs": [],
   "source": [
    "def whac_a_mole():\n",
    "    ready_set_whack()\n",
    "    global hole\n",
    "    for i in range(0, 30):\n",
    "        #hole = random.randint(0, 34)\n",
    "        #buttons[hole].config(\n",
    "                #bg='pink',\n",
    "                #fg='black')\n",
    "        sleep(1)\n",
    "        #buttons[hole].config(state='disabled', text='', bg='black')\n",
    "       \n",
    "    replaybtn.config(state='normal')\n",
    "    global whacks\n",
    "    if whacks < 5:\n",
    "        remark.config(text=\"POOR\")\n",
    "    elif whacks >= 10 and whacks < 15:\n",
    "        remark.config(text=\"BAD\")\n",
    "    elif whacks >= 15 and whacks < 20:\n",
    "        remark.config(text=\"DO BETTER!\")\n",
    "    elif whacks >= 25 and whacks < 30:\n",
    "        remark.config(text=\"GOOD\")\n",
    "    elif whacks >= 30 and whacks < 35:\n",
    "        remark.config(text=\"GREAT!\")\n",
    "    elif whacks >= 35 and whacks < 40:\n",
    "        remark.config(text=\"AWESOME!\")\n",
    "    elif whacks == 45:\n",
    "        remark.config(text=\"WHACKED 'em ALL!\", font=\"Centaur 18\")\n",
    "\n",
    "def start():\n",
    "    global whacks\n",
    "    whacks = 0\n",
    "    global gate\n",
    "    gate = -1\n",
    "    remark.config(text=\"\")\n",
    "    replaybtn.config(state='disabled')\n",
    "    hGate.config(state=\"disabled\")\n",
    "    xGate.config(state=\"disabled\")\n",
    "    zGate.config(state=\"disabled\")\n",
    "    cnotGate.config(state=\"disabled\")\n",
    "    t = threading.Thread(target=whac_a_mole)\n",
    "    t.start()\n",
    "\n"
   ]
  },
  {
   "cell_type": "code",
   "execution_count": 8,
   "id": "9990f4de-2f90-44b7-bbea-3985a1aad5db",
   "metadata": {},
   "outputs": [],
   "source": [
    "startButton = Button(\n",
    "    width=6,\n",
    "    height=3,\n",
    "    bg='ghost white',\n",
    "    text='start!',\n",
    "    state='normal',\n",
    "    command=start)\n",
    "startButton.place(x=19, y=90)\n",
    "\n",
    "replaybtn = Button(text=\"Play Again\", command=start)\n",
    "replaybtn.place(x=0, y=2)"
   ]
  },
  {
   "cell_type": "code",
   "execution_count": 9,
   "id": "c171bc7f-4ebd-48f3-9b37-6544b2eb245e",
   "metadata": {},
   "outputs": [],
   "source": [
    "def rgbtohex(r,g,b):\n",
    "    return f'#{r:02x}{g:02x}{b:02x}'\n",
    "\n",
    "xPos = [19, 86, 153, 220, 287, 354]\n",
    "#421\n",
    "yPos = [160, 225, 290, 355, 419]\n",
    "\n",
    "buttons = []\n",
    "\n",
    "for xP in xPos:\n",
    "    for yP in yPos:\n",
    "        buttons.append(Button(\n",
    "            width=6,\n",
    "            height=3,\n",
    "            bg=rgbtohex(255, 255, 255),\n",
    "            text='【•】__【•】',\n",
    "            state='normal',\n",
    "            command=lambda m=len(buttons): onwhack(m)))\n",
    "        buttons[len(buttons) - 1].place(x = xP, y = yP)"
   ]
  },
  {
   "cell_type": "code",
   "execution_count": 10,
   "id": "a13c931a-4c38-47f1-8c1c-bb91d98de863",
   "metadata": {},
   "outputs": [],
   "source": [
    "def onwhack(num):\n",
    "    global gate\n",
    "    if gate >= 0:\n",
    "        placeGate(num, gate)\n",
    "    else:\n",
    "        global hole\n",
    "        #add logic with quantum, onwhack = measurement\n",
    "        buttons[num].config(state='disabled', text='*_*', fg='black')\n",
    "        quantumMeasure(num)\n",
    "        global whacks\n",
    "        whacks += 1\n",
    "        scorelabel.config(text=\"* \" + str(whacks) + \" *\")\n",
    "        print(gate)"
   ]
  },
  {
   "cell_type": "code",
   "execution_count": 11,
   "id": "f5066f6e-c4f9-403f-b6e5-780f264b61ee",
   "metadata": {},
   "outputs": [],
   "source": [
    "gateList = [\"【•】__【•】\\n\"] * 30\n",
    "\n",
    "def placeGate(num, g):\n",
    "    global gateList\n",
    "    print(g)\n",
    "    #H gate\n",
    "    if g == 0:\n",
    "        prevGate = g\n",
    "        gateList[num] = gateList[num] + \"H \"\n",
    "        buttons[num].config(bg='#80e8ff', text=gateList[num])\n",
    "    #X gate\n",
    "    if g == 1:\n",
    "        prevGate = g\n",
    "        gateList[num] = gateList[num] + \"X \"\n",
    "        buttons[num].config(bg='#00d1ff', text=gateList[num])\n",
    "    #CX gate\n",
    "    if g == 2:\n",
    "        prevGate = g\n",
    "        gateList[num] = gateList[num] + \"CX \"\n",
    "        buttons[num].config(bg='#ccf6ff', text=gateList[num])\n",
    "    #Z gate\n",
    "    if g== 3:\n",
    "        prevGate = g\n",
    "        gateList[num] = gateList[num] + \"Z \"\n",
    "        buttons[num].config(bg='#e6faff', text=gateList[num])"
   ]
  },
  {
   "cell_type": "code",
   "execution_count": 12,
   "id": "bd45fb08-fa2e-46e5-a524-7957179716cb",
   "metadata": {},
   "outputs": [],
   "source": [
    "def quantumMeasure(bnum):\n",
    "    sim = Aer.get_backend('qasm_simulator')\n",
    "    qexe = transpile(qc, sim)\n",
    "    job = sim.run(qexe, shots = 10)\n",
    "    result = job.result()\n",
    "    #add measurement of qubit and set it to col, either 255 (0) or 0 (1)\n",
    "    col = 0\n",
    "    buttons[bnum].config(bg=rgbtohex(255, col, 255))"
   ]
  },
  {
   "cell_type": "code",
   "execution_count": 13,
   "id": "38eebc31-545d-4072-be6f-7d9e7ffa9f2d",
   "metadata": {
    "scrolled": true
   },
   "outputs": [],
   "source": [
    "def ready_set_whack():\n",
    "    sleep(1)\n",
    "    scorelabel.config(text=\"Ready\")\n",
    "    sleep(1)\n",
    "    scorelabel.config(text=\"Set\")\n",
    "    sleep(1)\n",
    "    scorelabel.config(text=\"WHACK!!\")\n",
    "    sleep(1)\n",
    "    scorelabel.config(text=\"0\")\n",
    "    for b in buttons: \n",
    "        b.config(state='normal')\n",
    "\n",
    "\n"
   ]
  },
  {
   "cell_type": "code",
   "execution_count": null,
   "id": "26aff092-43c4-4074-ab2a-d7a81d0b2d69",
   "metadata": {},
   "outputs": [
    {
     "name": "stdout",
     "output_type": "stream",
     "text": [
      "1\n",
      "1\n",
      "2\n",
      "3\n",
      "-1\n",
      "-1\n",
      "-1\n",
      "-1\n",
      "-1\n",
      "-1\n"
     ]
    }
   ],
   "source": [
    "\n",
    "screen.mainloop()\n"
   ]
  },
  {
   "cell_type": "code",
   "execution_count": null,
   "id": "a8b482f5-5aff-4c52-a43e-583f8a995ede",
   "metadata": {},
   "outputs": [],
   "source": []
  },
  {
   "cell_type": "code",
   "execution_count": null,
   "id": "02812739-0f70-496c-9b3a-5ba30a51f022",
   "metadata": {},
   "outputs": [],
   "source": []
  }
 ],
 "metadata": {
  "kernelspec": {
   "display_name": "Python 3 (ipykernel)",
   "language": "python",
   "name": "python3"
  },
  "language_info": {
   "codemirror_mode": {
    "name": "ipython",
    "version": 3
   },
   "file_extension": ".py",
   "mimetype": "text/x-python",
   "name": "python",
   "nbconvert_exporter": "python",
   "pygments_lexer": "ipython3",
   "version": "3.11.4"
  }
 },
 "nbformat": 4,
 "nbformat_minor": 5
}
